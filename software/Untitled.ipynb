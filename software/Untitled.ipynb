{
 "cells": [
  {
   "cell_type": "code",
   "execution_count": 19,
   "metadata": {
    "collapsed": true
   },
   "outputs": [],
   "source": [
    "import json\n",
    "import numpy as np\n",
    "from collections import defaultdict, Counter\n",
    "import string\n",
    "from sklearn import linear_model\n",
    "import sys\n",
    "import nltk\n",
    "import random\n",
    "from nltk.corpus import stopwords\n",
    "import matplotlib.pyplot as plt\n",
    "import matplotlib\n",
    "import os\n",
    "import pandas as pd\n",
    "import spacy\n",
    "#from baseline import *"
   ]
  },
  {
   "cell_type": "code",
   "execution_count": 20,
   "metadata": {
    "collapsed": true
   },
   "outputs": [],
   "source": [
    "def read_data(f_name):\n",
    "    all_data = []\n",
    "    assert os.path.exists(f_name)\n",
    "    print(f_name)\n",
    "    with open(f_name, 'r') as f:\n",
    "        line = f.readline()\n",
    "        #print(line)\n",
    "        while line:\n",
    "            data = json.loads(line)\n",
    "            all_data.append(data)\n",
    "            line = f.readline()\n",
    "    return all_data\n",
    "\n",
    "def only_adj_and_noun(all_data):\n",
    "    # remove data that has missing features\n",
    "    for i in all_data:\n",
    "        if 'reviewText' not in i.keys() or 'overall' not in i.keys() or not i['reviewText'] or not i['overall']:\n",
    "            all_data.remove(i)\n",
    "    # obtain a subset of data to reduce computation time\n",
    "    all_data = random.choices(all_data, k=60000)\n",
    "\n",
    "    # set up NLTK and spacy\n",
    "    bigramCount = defaultdict(int)\n",
    "    uniCount = defaultdict(int)\n",
    "    punctuation = set(string.punctuation)\n",
    "    stop_words = set(stopwords.words('english'))\n",
    "    translator = str.maketrans('', '', string.punctuation)\n",
    "    nlp = spacy.load(\"en_core_web_sm\")\n",
    "\n",
    "    # get bigrams and unigrams & get nouns and adjectives from review text\n",
    "    review_text = []\n",
    "    for idx, d in enumerate(all_data):\n",
    "        if idx % 1000 == 0:\n",
    "            print(idx)\n",
    "        r = d['reviewText'].translate(translator).lower()\n",
    "        doc = nlp(r)\n",
    "        r = [word.text for word in doc if word.text not in stop_words and not word.text.isdigit() and\n",
    "             word.pos_ in (\"NOUN\", \"ADJ\")]\n",
    "        review_text.append(\" \".join(r))\n",
    "        if r:\n",
    "            prev = r[0]\n",
    "            for i in range(1, len(r)):\n",
    "                bigram = prev + \" \" + r[i]\n",
    "                uniCount[r[i]] += 1\n",
    "                bigramCount[bigram] += 1\n",
    "                prev = r[i]\n",
    "            uniCount[r[0]] += 1\n",
    "    return uniCount, bigramCount, review_text\n",
    "\n",
    "def bigram_to_feature(text, bi_count):\n",
    "    #get (numbers of bigram, bigram) pairs\n",
    "    countsBigram = [(bi_count[d], d) for d in bi_count.keys()]\n",
    "    countsBigram.sort()\n",
    "    countsBigram.reverse()\n",
    "\n",
    "    #get the most frequent 1000 bigrams\n",
    "    bigrams = [c[1] for c in countsBigram[:1000]]\n",
    "    bigramId = dict(zip(bigrams, range(len(bigrams))))\n",
    "\n",
    "    #create bag of words vector features\n",
    "    feat = [0]*len(bigrams)\n",
    "    words = text.split()\n",
    "    for i in range(len(words)-1):\n",
    "        bigram = words[i] + \" \" + words[i+1]\n",
    "        try:\n",
    "            feat[bigramId[bigram]] += 1\n",
    "        except KeyError:\n",
    "            continue\n",
    "    feat.append(1) #offset\n",
    "    return feat\n",
    "\n",
    "def data_by_rating(all_data, rating):\n",
    "    # get data that has certain rating\n",
    "    ratings_data = []\n",
    "    for d in all_data:\n",
    "        if d['overall'] == rating:\n",
    "            ratings_data.append(d)\n",
    "    return ratings_data\n",
    "\n",
    "def data_by_year(all_data):\n",
    "    # create dataframe that contains [\"reviewTime\",'overall', 'reviewText'] columns\n",
    "    tmp = pd.DataFrame(all_data)\n",
    "    tmp[\"reviewTime\"] = tmp[\"reviewTime\"].str[-4:]\n",
    "    a = pd.to_datetime(tmp[\"reviewTime\"])\n",
    "    tmp[\"reviewTime\"] = a.dt.strftime('%Y')\n",
    "    year_data = tmp[[\"reviewTime\",'overall', 'reviewText']]\n",
    "    return year_data\n",
    "\n",
    "def process_year_data(all_data):\n",
    "    # initialize NLTK and spacy\n",
    "    bigramCount = defaultdict(int)\n",
    "    punctuation = set(string.punctuation)\n",
    "    stop_words = set(stopwords.words('english'))\n",
    "    translator = str.maketrans('', '', string.punctuation)\n",
    "    nlp = spacy.load(\"en_core_web_sm\")\n",
    "\n",
    "    # process the dataframe\n",
    "    review_text = []\n",
    "    for idx, d in enumerate(all_data['reviewText']):\n",
    "        if idx % 1000 == 0:\n",
    "            print(idx)\n",
    "        r = d.translate(translator).lower()\n",
    "        doc = nlp(r)\n",
    "        r = [word.text for word in doc if word.text not in stop_words and not word.text.isdigit() and\n",
    "             word.pos_ in (\"NOUN\", \"ADJ\")]\n",
    "        if r:\n",
    "            prev = r[0]\n",
    "            for i in range(1, len(r)):\n",
    "                bigram = prev + \" \" + r[i]\n",
    "                bigramCount[bigram] += 1\n",
    "                prev = r[i]\n",
    "    return bigramCount\n"
   ]
  },
  {
   "cell_type": "code",
   "execution_count": 21,
   "metadata": {},
   "outputs": [
    {
     "name": "stdout",
     "output_type": "stream",
     "text": [
      "Software_2018.json\n"
     ]
    },
    {
     "ename": "KeyboardInterrupt",
     "evalue": "",
     "output_type": "error",
     "traceback": [
      "\u001b[0;31m---------------------------------------------------------------------------\u001b[0m",
      "\u001b[0;31mKeyboardInterrupt\u001b[0m                         Traceback (most recent call last)",
      "\u001b[0;32m<ipython-input-21-0db9d95bdd7b>\u001b[0m in \u001b[0;36m<module>\u001b[0;34m\u001b[0m\n\u001b[1;32m      1\u001b[0m \u001b[0mdata_name\u001b[0m \u001b[0;34m=\u001b[0m \u001b[0;34m\"Software_2018.json\"\u001b[0m\u001b[0;34m\u001b[0m\u001b[0;34m\u001b[0m\u001b[0m\n\u001b[0;32m----> 2\u001b[0;31m \u001b[0mall_data\u001b[0m \u001b[0;34m=\u001b[0m \u001b[0mread_data\u001b[0m\u001b[0;34m(\u001b[0m\u001b[0mdata_name\u001b[0m\u001b[0;34m)\u001b[0m\u001b[0;34m\u001b[0m\u001b[0;34m\u001b[0m\u001b[0m\n\u001b[0m\u001b[1;32m      3\u001b[0m \u001b[0muni_count\u001b[0m\u001b[0;34m,\u001b[0m \u001b[0mbi_count\u001b[0m\u001b[0;34m,\u001b[0m \u001b[0mreview_text\u001b[0m \u001b[0;34m=\u001b[0m \u001b[0monly_adj_and_noun\u001b[0m\u001b[0;34m(\u001b[0m\u001b[0mall_data\u001b[0m\u001b[0;34m)\u001b[0m\u001b[0;34m\u001b[0m\u001b[0;34m\u001b[0m\u001b[0m\n",
      "\u001b[0;32m<ipython-input-20-6be9b85b2aed>\u001b[0m in \u001b[0;36mread_data\u001b[0;34m(f_name)\u001b[0m\n\u001b[1;32m      9\u001b[0m             \u001b[0mdata\u001b[0m \u001b[0;34m=\u001b[0m \u001b[0mjson\u001b[0m\u001b[0;34m.\u001b[0m\u001b[0mloads\u001b[0m\u001b[0;34m(\u001b[0m\u001b[0mline\u001b[0m\u001b[0;34m)\u001b[0m\u001b[0;34m\u001b[0m\u001b[0;34m\u001b[0m\u001b[0m\n\u001b[1;32m     10\u001b[0m             \u001b[0mall_data\u001b[0m\u001b[0;34m.\u001b[0m\u001b[0mappend\u001b[0m\u001b[0;34m(\u001b[0m\u001b[0mdata\u001b[0m\u001b[0;34m)\u001b[0m\u001b[0;34m\u001b[0m\u001b[0;34m\u001b[0m\u001b[0m\n\u001b[0;32m---> 11\u001b[0;31m             \u001b[0mline\u001b[0m \u001b[0;34m=\u001b[0m \u001b[0mf\u001b[0m\u001b[0;34m.\u001b[0m\u001b[0mreadline\u001b[0m\u001b[0;34m(\u001b[0m\u001b[0;34m)\u001b[0m\u001b[0;34m\u001b[0m\u001b[0;34m\u001b[0m\u001b[0m\n\u001b[0m\u001b[1;32m     12\u001b[0m     \u001b[0;32mreturn\u001b[0m \u001b[0mall_data\u001b[0m\u001b[0;34m\u001b[0m\u001b[0;34m\u001b[0m\u001b[0m\n\u001b[1;32m     13\u001b[0m \u001b[0;34m\u001b[0m\u001b[0m\n",
      "\u001b[0;32m~/anaconda/lib/python3.6/codecs.py\u001b[0m in \u001b[0;36mdecode\u001b[0;34m(self, input, final)\u001b[0m\n\u001b[1;32m    319\u001b[0m         \u001b[0;31m# decode input (taking the buffer into account)\u001b[0m\u001b[0;34m\u001b[0m\u001b[0;34m\u001b[0m\u001b[0;34m\u001b[0m\u001b[0m\n\u001b[1;32m    320\u001b[0m         \u001b[0mdata\u001b[0m \u001b[0;34m=\u001b[0m \u001b[0mself\u001b[0m\u001b[0;34m.\u001b[0m\u001b[0mbuffer\u001b[0m \u001b[0;34m+\u001b[0m \u001b[0minput\u001b[0m\u001b[0;34m\u001b[0m\u001b[0;34m\u001b[0m\u001b[0m\n\u001b[0;32m--> 321\u001b[0;31m         \u001b[0;34m(\u001b[0m\u001b[0mresult\u001b[0m\u001b[0;34m,\u001b[0m \u001b[0mconsumed\u001b[0m\u001b[0;34m)\u001b[0m \u001b[0;34m=\u001b[0m \u001b[0mself\u001b[0m\u001b[0;34m.\u001b[0m\u001b[0m_buffer_decode\u001b[0m\u001b[0;34m(\u001b[0m\u001b[0mdata\u001b[0m\u001b[0;34m,\u001b[0m \u001b[0mself\u001b[0m\u001b[0;34m.\u001b[0m\u001b[0merrors\u001b[0m\u001b[0;34m,\u001b[0m \u001b[0mfinal\u001b[0m\u001b[0;34m)\u001b[0m\u001b[0;34m\u001b[0m\u001b[0;34m\u001b[0m\u001b[0m\n\u001b[0m\u001b[1;32m    322\u001b[0m         \u001b[0;31m# keep undecoded input until the next call\u001b[0m\u001b[0;34m\u001b[0m\u001b[0;34m\u001b[0m\u001b[0;34m\u001b[0m\u001b[0m\n\u001b[1;32m    323\u001b[0m         \u001b[0mself\u001b[0m\u001b[0;34m.\u001b[0m\u001b[0mbuffer\u001b[0m \u001b[0;34m=\u001b[0m \u001b[0mdata\u001b[0m\u001b[0;34m[\u001b[0m\u001b[0mconsumed\u001b[0m\u001b[0;34m:\u001b[0m\u001b[0;34m]\u001b[0m\u001b[0;34m\u001b[0m\u001b[0;34m\u001b[0m\u001b[0m\n",
      "\u001b[0;31mKeyboardInterrupt\u001b[0m: "
     ]
    }
   ],
   "source": [
    "data_name = \"Software_2018.json\"\n",
    "all_data = read_data(data_name)\n",
    "uni_count, bi_count, review_text = only_adj_and_noun(all_data)"
   ]
  },
  {
   "cell_type": "code",
   "execution_count": null,
   "metadata": {
    "collapsed": true
   },
   "outputs": [],
   "source": []
  }
 ],
 "metadata": {
  "kernelspec": {
   "display_name": "Python 3",
   "language": "python",
   "name": "python3"
  },
  "language_info": {
   "codemirror_mode": {
    "name": "ipython",
    "version": 3
   },
   "file_extension": ".py",
   "mimetype": "text/x-python",
   "name": "python",
   "nbconvert_exporter": "python",
   "pygments_lexer": "ipython3",
   "version": "3.6.8"
  }
 },
 "nbformat": 4,
 "nbformat_minor": 2
}
